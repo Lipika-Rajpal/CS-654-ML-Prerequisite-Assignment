{
  "nbformat": 4,
  "nbformat_minor": 0,
  "metadata": {
    "colab": {
      "provenance": []
    },
    "kernelspec": {
      "name": "python3",
      "display_name": "Python 3"
    },
    "language_info": {
      "name": "python"
    }
  },
  "cells": [
    {
      "cell_type": "markdown",
      "source": [
        "Problem 1:\n",
        "\n",
        "Let matrix #1 be M1, and matrix #2 be M2. \n",
        "\n",
        "Given-\n",
        "Dimensions of M1 = n X k\n",
        "Dimensions of M2 = k X m \n",
        "\n",
        "Sol-\n",
        "\n",
        "We know the resultant matrix (M = M1M2) will be of order n X m. Hence, it will have n*m elements. To answer this problem, we will first calculate the number of multiplications and additions required for one element in M:\n",
        "\n",
        "For an element in the ith row and jth column in M (denoted as Mij), each element in the ith row of M1 is multiplied by its corresponding element in the jth column in M2. Then, all these products are added to calculate Mij.\n",
        "Hence, this results in k multiplications for one element Mij. And, there are n*m elements in M.\n",
        "\n",
        "Hence, a total of n*m*k multiplications. \n",
        "\n",
        "Also, to add k numbers (k products), k-1 additions are to be done.\n",
        " \n",
        "Hence, a total of n*m*(k-1) additions are required. "
      ],
      "metadata": {
        "id": "fKHrTT2DBCzw"
      }
    },
    {
      "cell_type": "code",
      "source": [
        "# Problem 2\n",
        "import random\n",
        "import time\n",
        "import numpy as np\n",
        "n = int(input (\"Enter the #rows in M1:\")) \n",
        "k = int(input(\"Enter the #cols in M1:\")) \n",
        "m = int(input(\"Enter the #cols in M2: \")) \n",
        "\n",
        "# M1 \n",
        "M1 = []\n",
        "for i in range(0, n):\n",
        "    row = []\n",
        "    for j in range(0, k):\n",
        "        row.append(random.randint(5000, 100000)) \n",
        "    M1.append(row)\n",
        "\n",
        "# M2\n",
        "M2 = [] \n",
        "for i in range(0, k):\n",
        "    row = []\n",
        "    for j in range(0, m):\n",
        "        row.append(random.randint(5000, 100000)) \n",
        "    M2.append(row)\n",
        "\n",
        "# Matrix multiplication using lists of lists   \n",
        "counter = 1000 \n",
        "time_array_mm = []\n",
        "while (counter):\n",
        "\n",
        "  M = [] \n",
        "  begin_ll = time.time()\n",
        "  for i in range(0, n):\n",
        "      row = [0]*m\n",
        "      for j in range(0, m):\n",
        "          for l in range(0, k):\n",
        "              row[j] += M1[i][l]*M2[l][j]\n",
        "      M.append(row)\n",
        "  end_ll = time.time() \n",
        "  time_array_mm.append('%.20f' % (end_ll - begin_ll))\n",
        "  counter -= 1\n",
        "time_array_mm = np.array(time_array_mm).astype(float)\n",
        "mean_time_mm = np.mean(time_array_mm)\n",
        "std_time_mm = np.std(time_array_mm)\n",
        "print(\"The time taken using lists of lists is {} +- {} seconds\".format('%.20f' % (mean_time_mm), '%.20f' % (std_time_mm)))\n",
        "# print(M1, '\\n')\n",
        "# print(M2, '\\n')\n",
        "# print(M)\n",
        "\n",
        "# Matrix multiplication using numPy\n",
        "M1 = np.array(M1) \n",
        "M2 = np.array(M2)  \n",
        "counter = 1000 \n",
        "time_array_np = []\n",
        "while(counter):\n",
        "  begin_np = time.time()\n",
        "  M = np.dot(M1, M2)\n",
        "  end_np = time.time() \n",
        "  time_array_np.append('%.20f' % (end_np - begin_np)) \n",
        "  counter -= 1 \n",
        "time_array_np = np.array(time_array_np).astype(float)\n",
        "mean_time_np = np.mean(time_array_np)\n",
        "std_time_np = np.std(time_array_np)\n",
        "print(\"The time taken using numpy is {} +- {} seconds\".format('%.20f' % (mean_time_np), '%.20f' % (std_time_np)))\n",
        "\n",
        "# print(M)\n",
        "# print(\"The time taken using numPy is\", '%.20f' % (end_np - begin_np), \"seconds.\")\n"
      ],
      "metadata": {
        "colab": {
          "base_uri": "https://localhost:8080/"
        },
        "id": "J5QFjnT0BQo2",
        "outputId": "b5f03007-4ee3-4f2b-c054-b392f6722011"
      },
      "execution_count": 2,
      "outputs": [
        {
          "output_type": "stream",
          "name": "stdout",
          "text": [
            "Enter the #rows in M1:50\n",
            "Enter the #cols in M1:20\n",
            "Enter the #cols in M2: 40\n",
            "The time taken using lists of lists is 0.00911647701263427687 +- 0.00101866625647482889 seconds\n",
            "The time taken using numpy is 0.00003342127799987793 +- 0.00003337142642347423 seconds\n"
          ]
        }
      ]
    },
    {
      "cell_type": "markdown",
      "source": [
        "In problem 2, we have observed that method 2 (using Numpy) is faster than method 1(using list of lists). It is mainly because of the following reasons:\n",
        "\n",
        "1. Numpy uses C language at the backend which makes it faster than functions (like matrix multiplication) written wholly in Python. \n",
        "\n",
        "2. Numpy maintains the information (for example np.arrays) in data structures easily managed and manipulated using C which saves time. "
      ],
      "metadata": {
        "id": "cSXeXZJdwTve"
      }
    },
    {
      "cell_type": "markdown",
      "source": [
        "Problem 3\n",
        "\n",
        "Using the method suggested in the question, we will have to make [n/2]+1 passes of the array (where, n is the length of the array). Hence, the time\n",
        "complexity of this method is O(n*n/2) => O(n^2). \n",
        "A better approach to find the median of an array can be by sorting. Using merge sort we can sort the array in O(nlog(n)) time complexity. After sorting the\n",
        "array, we can calculate the median in constant time because we know the index of the median in the sorted array and any element of the array with known index\n",
        "can be obtained in O(n) time (or even in constant time). Hence, overall time complexity = O(nlogn) + O(n) = O(nlogn)"
      ],
      "metadata": {
        "id": "-V8vQpNQU0wf"
      }
    },
    {
      "cell_type": "code",
      "source": [
        "import timeit\n",
        "import numpy as np\n",
        "n = int(input(\"Enter the length of the array : \")) \n",
        "nums = np.random.randint(-100, 100, n) \n",
        "print(\"The array is : \", nums) \n",
        "\n",
        "\n",
        "\n",
        "# Method 1: passing through the array n/2 times\n",
        "def pass_array(arri, n):\n",
        "  arr = arri.copy()\n",
        "  prev_max = -100000\n",
        "  maxi  = -100000\n",
        "  num_passes = n//2 + 1\n",
        "  counter = 1\n",
        "  while (counter <= num_passes): \n",
        "    maxi = -10000\n",
        "    index_max = -1\n",
        "    for i in range(0, n):\n",
        "      if (arr[i] > maxi):\n",
        "        maxi = arr[i]\n",
        "        index_max =  i \n",
        "    if (n %2 == 0 and counter == num_passes -1 ):\n",
        "      prev_max = maxi\n",
        "    arr[index_max] = -10000\n",
        "    \n",
        "    counter += 1\n",
        "  if (n % 2):\n",
        "    return maxi \n",
        "  else:\n",
        "    return (maxi + prev_max)/2\n",
        "\n",
        "print(\"Median by method 1 : \", pass_array(nums, n)) \n",
        "\n",
        "# print(nums)\n",
        "\n",
        "# Method 2: By sorting the array \n",
        "def sort_array(arri, n):\n",
        "  arr = arri.copy() \n",
        "  arr.sort() \n",
        "  if (n % 2):\n",
        "    return arr[n//2] \n",
        "  else:\n",
        "    return (arr[n//2] + arr[n//2 -1])/2\n",
        "  \n",
        "print('Median by sorting the array is ', sort_array(nums, n)) \n",
        "# print(nums) \n",
        "print(\"Median by using np.median() is \", np.median(nums))\n",
        "\n",
        "if __name__ == \"__main__\":\n",
        "    time_m1 = np.array( timeit.repeat(\"pass_array(nums, n)\",\"from __main__ import pass_array, nums, n\", number = 1000,   repeat = 10)) \n",
        "    print(\"The time taken by passing the array (n/2+1) times  is {} +- {} seconds\".format(np.mean(time_m1) , np.std(time_m1)))\n",
        "  \n",
        "    # print(time_m1)\n",
        "if __name__ == \"__main__\":\n",
        "    time_m2 = np.array( timeit.repeat(\"sort_array(nums, n)\",\"from __main__ import sort_array, nums, n\", number = 1000,   repeat = 10)) \n",
        "    print(\"The time taken by sorting the array  is {} +- {} seconds\".format(np.mean(time_m2) , np.std(time_m2))) \n",
        "\n",
        "if __name__ == \"__main__\":\n",
        "\n",
        "    nums = np.array(nums)\n",
        "    time_m3 = np.array( timeit.repeat(\"np.median(nums)\",\"from __main__ import nums, np\", number = 1000,   repeat = 10)) \n",
        "    print(\"The time taken by using np.median  is {} +- {} seconds\".format(np.mean(time_m3) , np.std(time_m3))) \n",
        "\n"
      ],
      "metadata": {
        "colab": {
          "base_uri": "https://localhost:8080/"
        },
        "id": "T_dCi3eNVu3Q",
        "outputId": "8b9a077d-f887-4a5b-dba4-37c045a47d59"
      },
      "execution_count": 3,
      "outputs": [
        {
          "output_type": "stream",
          "name": "stdout",
          "text": [
            "Enter the length of the array : 55\n",
            "The array is :  [ 84 -15 -47 -43  24  71 -81 -20  43  82 -62 -87  15  66 -68  11 -98  44\n",
            "  -6 -80 -56  88  74  -9  72  -7 -78  56 -64  44  61 -21 -18 -76 -99  -3\n",
            " -65  97  89 -95  98 -43 -83 -77  14  98  53 -80 -50  92 -26 -85 -52  17\n",
            "  62]\n",
            "Median by method 1 :  -9\n",
            "Median by sorting the array is  -9\n",
            "Median by using np.median() is  -9.0\n",
            "The time taken by passing the array (n/2+1) times  is 0.23077702400000816 +- 0.03184457078001081 seconds\n",
            "The time taken by sorting the array  is 0.0010726661000035164 +- 0.0005077600474741235 seconds\n",
            "The time taken by using np.median  is 0.016853780700057542 +- 0.004281479001441152 seconds\n"
          ]
        }
      ]
    },
    {
      "cell_type": "markdown",
      "source": [
        "In problem 3, we have observed that calculating the median by sorting the array is the fastest method. Then comes the method of using np.median() function. And, the method in which we traversed the array [n/2]+1 times is the slowest of all three."
      ],
      "metadata": {
        "id": "kWkCFuEA0MtY"
      }
    },
    {
      "cell_type": "markdown",
      "source": [
        "Problem 4 \n",
        "\n",
        "Given Function - \n",
        "\n",
        "$f(x, y) = x^2y + y^3sin(x)$ \n",
        "\n",
        "Gradient of the above function is a vector:\n",
        "\n",
        "$\\triangledown f(x, y) = [\n",
        "   \\frac{\\partial f(x, y)}{\\partial x} , \\frac{\\partial f(x, y)}{\\partial y} ]$\n",
        "\n",
        "$\\frac{\\partial f(x, y)}{\\partial x} = 2xy + y^3cos(x)$    [w.r.t. x]\n",
        "\n",
        "$\\frac{\\partial f(x, y)}{\\partial y} = x^2 + 3y^2sin(x)$  [w.r.t y]\n",
        "\n",
        "Hence, the gradient of $f(x, y)$ is :\n",
        "\n",
        "$[2xy + y^3cos(x) , x^2 + 3y^2sin(x) ]$\n"
      ],
      "metadata": {
        "id": "DDDHDN_NGnup"
      }
    },
    {
      "cell_type": "code",
      "source": [
        "# Problem 5\n",
        "import math\n",
        "import jax \n",
        "import jax.numpy as jnp\n",
        "from jax import grad \n",
        "import random\n",
        "\n",
        "def f(x, y): \n",
        "    return jnp.power(x, 2)*y + jnp.power(y, 3)*jnp.sin(x) \n",
        "   \n",
        "\n",
        "def mygrad(x, y):\n",
        "    return (2*x*y + jnp.power(y, 3)*jnp.cos(x), jnp.power(x, 2) + 3*jnp.power(y, 2)*jnp.sin(x))\n",
        "\n",
        "grad_jax = grad(f, argnums = (0, 1)) \n",
        "\n",
        "for i in range(5):\n",
        "  xval = random.uniform(-100, 100) \n",
        "  yval = random.uniform (-100, 100) \n",
        "  \n",
        "  print(\"The value of the gradient calculated by me at x = {} and y = {} is\".format(xval, yval), \"({}, {})\".format(mygrad(xval, yval)[0],mygrad(xval, yval)[1] ) ) \n",
        "  print(\"The value of the gradient calculated by JAX at x = {} and y = {} is\".format(xval, yval), \"({}, {})\".format((grad_jax(xval, yval))[0],(grad_jax(xval, yval))[1] ) ) \n",
        "\n",
        "print(\"As we can see the value of the gradient at each point in both the manual and JAX methods are same analytically.\")\n",
        "\n",
        "\n",
        "\n"
      ],
      "metadata": {
        "colab": {
          "base_uri": "https://localhost:8080/"
        },
        "id": "QYV15fB9CE1J",
        "outputId": "60f9e568-0e72-4589-be78-89f2474ac8ea"
      },
      "execution_count": 4,
      "outputs": [
        {
          "output_type": "stream",
          "name": "stderr",
          "text": [
            "WARNING:jax._src.lib.xla_bridge:No GPU/TPU found, falling back to CPU. (Set TF_CPP_MIN_LOG_LEVEL=0 and rerun for more info.)\n"
          ]
        },
        {
          "output_type": "stream",
          "name": "stdout",
          "text": [
            "The value of the gradient calculated by me at x = -93.4069714086053 and y = 94.609607977879 is (547057.9375, 28735.134765625)\n",
            "The value of the gradient calculated by JAX at x = -93.4069714086053 and y = 94.609607977879 is (547057.9375, 28735.134765625)\n",
            "The value of the gradient calculated by me at x = 72.79496315471968 and y = 26.831423411817255 is (-12678.21875, 4191.78515625)\n",
            "The value of the gradient calculated by JAX at x = 72.79496315471968 and y = 26.831423411817255 is (-12678.21875, 4191.78515625)\n",
            "The value of the gradient calculated by me at x = -39.164030755493215 and y = 54.499136346651966 is (12837.4658203125, -7326.7509765625)\n",
            "The value of the gradient calculated by JAX at x = -39.164030755493215 and y = 54.499136346651966 is (12837.46484375, -7326.7509765625)\n",
            "As we can see the value of the gradient at each point in both the manual and JAX methods are same analytically.\n"
          ]
        }
      ]
    },
    {
      "cell_type": "code",
      "source": [
        "# Problem 6:\n",
        "from sympy import *\n",
        "from sympy import Symbol, diff, sin\n",
        "import math\n",
        "\n",
        "x=Symbol('x') \n",
        "y=Symbol('y')\n",
        "f = x**2*y + y**3*sin(x)\n",
        "\n",
        "pdiff_x = diff(f, x)   \n",
        "pdiff_y  = diff(f, y)\n",
        "print(\"The gradient calculated from sympy is a vector : [{} , {}]\".format(pdiff_x, pdiff_y))\n",
        "def mygrad(x, y):\n",
        "    return (2*x*y + pow(y, 3)*math.cos(x), pow(x, 2) + 3*pow(y, 2)*math.sin(x))\n",
        "\n",
        "for i in range(5):\n",
        "  xval = random.uniform(-100, 100) \n",
        "  yval = random.uniform (-100, 100)\n",
        "  print(\"The value of the gradient calculated by sympy at x = {} and y = {} is\".format(xval, yval), \"({}, {})\".format(pdiff_x.subs([(x, xval), (y, yval)]), pdiff_y.subs([(x, xval), (y, yval)]) ) ) \n",
        "  print(\"The value of the gradient calculated by me at x = {} and y = {} is\".format(xval, yval), \"({}, {})\".format(mygrad(xval, yval)[0],mygrad(xval, yval)[1]) ) \n",
        "  \n",
        "print(\"As we can see the value of the gradient at each point in both the manual and sympy methods are same analytically.\")\n",
        "\n",
        "\n",
        "\n"
      ],
      "metadata": {
        "colab": {
          "base_uri": "https://localhost:8080/"
        },
        "id": "F0kzuD5WNg8j",
        "outputId": "3765c582-99f3-4ace-f23e-9d287aa833ef"
      },
      "execution_count": 5,
      "outputs": [
        {
          "output_type": "stream",
          "name": "stdout",
          "text": [
            "The gradient calculated from sympy is a vector : [2*x*y + y**3*cos(x) , x**2 + 3*y**2*sin(x)]\n",
            "The value of the gradient calculated by sympy at x = 27.62187613728966 and y = 38.48493301124168 is (-43165.5295452710, 3460.66021076668)\n",
            "The value of the gradient calculated by me at x = 27.62187613728966 and y = 38.48493301124168 is (-43165.52954527103, 3460.660210766684)\n",
            "The value of the gradient calculated by sympy at x = -55.80889727125064 and y = -95.8410842406048 is (-639549.125040853, 21691.0041488829)\n",
            "The value of the gradient calculated by me at x = -55.80889727125064 and y = -95.8410842406048 is (-639549.1250408533, 21691.00414888288)\n",
            "The value of the gradient calculated by sympy at x = -6.859908860965987 and y = -99.98117306218886 is (-836408.641041078, -16305.1939125209)\n",
            "The value of the gradient calculated by me at x = -6.859908860965987 and y = -99.98117306218886 is (-836408.641041078, -16305.19391252088)\n",
            "The value of the gradient calculated by sympy at x = -64.66322941539164 and y = -62.04792061835298 is (69569.9973049041, -6978.58588395562)\n",
            "The value of the gradient calculated by me at x = -64.66322941539164 and y = -62.04792061835298 is (69569.99730490406, -6978.585883955619)\n",
            "The value of the gradient calculated by sympy at x = 11.77976672338663 and y = -36.0112394073236 is (-33830.2522116185, -2615.50007430017)\n",
            "The value of the gradient calculated by me at x = 11.77976672338663 and y = -36.0112394073236 is (-33830.25221161853, -2615.500074300168)\n",
            "As we can see the value of the gradient at each point in both the manual and sympy methods are same analytically.\n"
          ]
        }
      ]
    },
    {
      "cell_type": "code",
      "source": [
        "# Problem 7 \n",
        "database = {\"2022\" : {\n",
        "    \"Branch 1\":{\n",
        "        \"RN 1\":{\"Name\": \"Olive\" ,  \"Marks\" : {\"Maths\": 100, \"English\" : 89, \"Biology\" : 80}},\n",
        "        \"RN 2\":{\"Name\": \"Cal\" ,  \"Marks\" : {\"Maths\": 90, \"English\" : 70, \"Biology\" : 92}}\n",
        "    }, \n",
        "    \"Branch 2\":{\n",
        "        \"RN 1\":{\"Name\": \"Grace\" ,  \"Marks\" : {\"Maths\": 76, \"English\" : 89, \"Biology\" : 70}},\n",
        "        \"RN 2\":{\"Name\": \"Ben\" ,  \"Marks\" : {\"Maths\": 89, \"English\" : 60, \"Biology\" : 92}}\n",
        "    }\n",
        "}, \n",
        "               \"2023\" : {\n",
        "       \"Branch 1\":{\n",
        "        \"RN 1\":{\"Name\": \"Mike\" ,  \"Marks\" : {\"Maths\": 100, \"English\" : 79, \"Biology\" : 100}},\n",
        "        \"RN 2\":{\"Name\": \"Jared\" ,  \"Marks\" : {\"Maths\": 80, \"English\" : 60, \"Biology\" : 62}}\n",
        "    }, \n",
        "    \"Branch 2\":{\n",
        "        \"RN 1\":{\"Name\": \"Adrian\" ,  \"Marks\" : {\"Maths\": 76, \"English\" : 89, \"Biology\" : 70}},\n",
        "        \"RN 2\":{\"Name\": \"Angelina\" ,  \"Marks\" : {\"Maths\": 89, \"English\" : 60, \"Biology\" : 92}}\n",
        "    }             \n",
        "               },\n",
        "               \"2024\" : {\n",
        "         \"Branch 1\":{\n",
        "        \"RN 1\":{\"Name\": \"Mikami\" ,  \"Marks\" : {\"Maths\": 100, \"English\" : 79, \"Biology\" : 100}},\n",
        "        \"RN 2\":{\"Name\": \"Jonathan\" ,  \"Marks\" : {\"Maths\": 80, \"English\" : 60, \"Biology\" : 62}}\n",
        "    }, \n",
        "    \"Branch 2\":{\n",
        "        \"RN 1\":{\"Name\": \"Will\" ,  \"Marks\" : {\"Maths\": 76, \"English\" : 89, \"Biology\" : 70}},\n",
        "        \"RN 2\":{\"Name\": \"Ell\" ,  \"Marks\" : {\"Maths\": 89, \"English\" : 60, \"Biology\" : 92}}\n",
        "    }  \n",
        "               },\n",
        "               \"2025\" : {\n",
        "            \"Branch 1\":{\n",
        "        \"RN 1\":{\"Name\": \"Zeeke\" ,  \"Marks\" : {\"Maths\": 100, \"English\" : 79, \"Biology\" : 100}},\n",
        "        \"RN 2\":{\"Name\": \"Nancy\" ,  \"Marks\" : {\"Maths\": 80, \"English\" : 60, \"Biology\" : 62}}\n",
        "    }, \n",
        "    \"Branch 2\":{\n",
        "        \"RN 1\":{\"Name\": \"Adrian\" ,  \"Marks\" : {\"Maths\": 76, \"English\" : 89, \"Biology\" : 70}},\n",
        "        \"RN 2\":{\"Name\": \"Angelina\" ,  \"Marks\" : {\"Maths\": 89, \"English\" : 60, \"Biology\" : 92}}\n",
        "    }    \n",
        "               },\n",
        "               }\n",
        "\n",
        "print(database) \n",
        "\n",
        "\n"
      ],
      "metadata": {
        "colab": {
          "base_uri": "https://localhost:8080/"
        },
        "id": "ixOTD0wuUNmx",
        "outputId": "508632af-6f9b-40c4-c883-97341586ba94"
      },
      "execution_count": 25,
      "outputs": [
        {
          "output_type": "stream",
          "name": "stdout",
          "text": [
            "{'2022': {'Branch 1': {'RN 1': {'Name': 'Olive', 'Marks': {'Maths': 100, 'English': 89, 'Biology': 80}}, 'RN 2': {'Name': 'Cal', 'Marks': {'Maths': 90, 'English': 70, 'Biology': 92}}}, 'Branch 2': {'RN 1': {'Name': 'Grace', 'Marks': {'Maths': 76, 'English': 89, 'Biology': 70}}, 'RN 2': {'Name': 'Ben', 'Marks': {'Maths': 89, 'English': 60, 'Biology': 92}}}}, '2023': {'Branch 1': {'RN 1': {'Name': 'Mike', 'Marks': {'Maths': 100, 'English': 79, 'Biology': 100}}, 'RN 2': {'Name': 'Jared', 'Marks': {'Maths': 80, 'English': 60, 'Biology': 62}}}, 'Branch 2': {'RN 1': {'Name': 'Adrian', 'Marks': {'Maths': 76, 'English': 89, 'Biology': 70}}, 'RN 2': {'Name': 'Angelina', 'Marks': {'Maths': 89, 'English': 60, 'Biology': 92}}}}, '2024': {'Branch 1': {'RN 1': {'Name': 'Mikami', 'Marks': {'Maths': 100, 'English': 79, 'Biology': 100}}, 'RN 2': {'Name': 'Jonathan', 'Marks': {'Maths': 80, 'English': 60, 'Biology': 62}}}, 'Branch 2': {'RN 1': {'Name': 'Will', 'Marks': {'Maths': 76, 'English': 89, 'Biology': 70}}, 'RN 2': {'Name': 'Ell', 'Marks': {'Maths': 89, 'English': 60, 'Biology': 92}}}}, '2025': {'Branch 1': {'RN 1': {'Name': 'Zeeke', 'Marks': {'Maths': 100, 'English': 79, 'Biology': 100}}, 'RN 2': {'Name': 'Nancy', 'Marks': {'Maths': 80, 'English': 60, 'Biology': 62}}}, 'Branch 2': {'RN 1': {'Name': 'Adrian', 'Marks': {'Maths': 76, 'English': 89, 'Biology': 70}}, 'RN 2': {'Name': 'Angelina', 'Marks': {'Maths': 89, 'English': 60, 'Biology': 92}}}}}\n"
          ]
        }
      ]
    },
    {
      "cell_type": "code",
      "source": [
        "# Problem 8  \n",
        "class Year:  \n",
        "  def __init__(self, year, branches): \n",
        "    self.year = year\n",
        "    self.branches = branches \n",
        "\n",
        "class Branch:\n",
        "  def __init__(self, branch, students):\n",
        "    self.branch = branch \n",
        "    self.students = students \n",
        "\n",
        "class Student: \n",
        "  def __init__(self, name, rollnum, marks): \n",
        "    self.name = name\n",
        "    self.rollnum = rollnum \n",
        "    self.marks = marks \n",
        "\n",
        "database = [\n",
        "    Year(\"2022\", \n",
        "         [Branch(\"Branch 1\" ,  [Student(\"Olive\", \"1\" , {\"Maths\": 100, \"English\": 100, \"Biology\": 100}) ,  Student(\"Cal\", \"2\", {\"Maths\": 100, \"English\": 100, \"Biology\": 100} )  ]     ), \n",
        "          Branch(\"Branch 2\" ,  [Student(\"Grace\", \"1\" , {\"Maths\": 100, \"English\": 100, \"Biology\": 100}) ,  Student(\"Ben\", \"2\", {\"Maths\": 100, \"English\": 100, \"Biology\": 100} )  ] )]) ,\n",
        "    Year(\"2023\", \n",
        "         [Branch(\"Branch 1\" ,  [Student(\"Mike\", \"1\" , {\"Maths\": 100, \"English\": 100, \"Biology\": 100}) ,  Student(\"Gabriel\", \"2\", {\"Maths\": 100, \"English\": 100, \"Biology\": 100} )  ]     ), \n",
        "          Branch(\"Branch 2\" ,  [Student(\"Steve\", \"1\" , {\"Maths\": 100, \"English\": 100, \"Biology\": 100}) ,  Student(\"Ben\", \"2\", {\"Maths\": 100, \"English\": 100, \"Biology\": 100} )  ] )])   ,\n",
        "    Year(\"2024\", \n",
        "         [Branch(\"Branch 1\" ,  [Student(\"Dustin\", \"1\" , {\"Maths\": 100, \"English\": 100, \"Biology\": 100}) ,  Student(\"Benny\", \"2\", {\"Maths\": 100, \"English\": 100, \"Biology\": 100} )  ]     ), \n",
        "          Branch(\"Branch 2\" ,  [Student(\"Rio\", \"1\" , {\"Maths\": 100, \"English\": 100, \"Biology\": 100}) ,  Student(\"Jane\", \"2\", {\"Maths\": 100, \"English\": 100, \"Biology\": 100} )  ] )]) ,\n",
        "    Year(\"2025\", \n",
        "         [Branch(\"Branch 1\" ,  [Student(\"Lucas\", \"1\" , {\"Maths\": 100, \"English\": 100, \"Biology\": 100}) ,  Student(\"Henry\", \"2\", {\"Maths\": 100, \"English\": 100, \"Biology\": 100} )  ]     ), \n",
        "          Branch(\"Branch 2\" ,  [Student(\"Maxine\", \"1\" , {\"Maths\": 100, \"English\": 100, \"Biology\": 100}) ,  Student(\"Spenser\", \"2\", {\"Maths\": 100, \"English\": 100, \"Biology\": 100} )  ] )])   \n",
        "]\n",
        "\n",
        "\n"
      ],
      "metadata": {
        "colab": {
          "base_uri": "https://localhost:8080/"
        },
        "id": "Su2ZecZ9g7WK",
        "outputId": "91f19f75-d4e4-4891-8d2f-1074dc608593"
      },
      "execution_count": 1,
      "outputs": [
        {
          "output_type": "stream",
          "name": "stdout",
          "text": [
            "[<__main__.Year object at 0x7f970b017d30>, <__main__.Year object at 0x7f970b017fa0>, <__main__.Year object at 0x7f970b01e220>, <__main__.Year object at 0x7f970b01e4c0>]\n"
          ]
        }
      ]
    },
    {
      "cell_type": "code",
      "source": [
        "# Problem 9\n",
        "import numpy as np\n",
        "from matplotlib import pyplot as plt\n",
        "\n",
        "def f1(x):\n",
        "  return x \n",
        "def f2(x):\n",
        "  return pow(x, 2) \n",
        "def f3(x):\n",
        "  return pow(x, 3)/100 \n",
        "def f4(x):\n",
        "  return np.sin(x) \n",
        "def f5(x):\n",
        "  return np.sin(x)/x\n",
        "def f6(x):\n",
        "  return np.log(x) \n",
        "def f7(x):\n",
        "  return np.exp(x) \n",
        "\n",
        "x = np.arange(0.5, 100.0, 0.5)\n",
        "\n",
        "plt.plot(x, f1(x), color='red')\n",
        "plt.title(\"y = x\")\n",
        "plt.show()\n",
        "plt.plot(x, f2(x), color='red')\n",
        "plt.title(\"y = x^2\")\n",
        "plt.show()\n",
        "plt.plot(x, f3(x), color='red')\n",
        "plt.title(\"y = x^3/100\")\n",
        "plt.show()\n",
        "plt.plot(x, f4(x), color='red')\n",
        "plt.title(\"y =sin(x) \")\n",
        "plt.show()\n",
        "plt.plot(x, f5(x), color='red')\n",
        "plt.title(\"y = sin(x)/x\")\n",
        "plt.show()\n",
        "plt.plot(x, f6(x), color='red')\n",
        "plt.title(\"y = log(x)\")\n",
        "plt.show()\n",
        "plt.plot(x, f7(x), color='red')\n",
        "plt.title(\"y = e^x\")\n",
        "\n",
        "plt.show()"
      ],
      "metadata": {
        "colab": {
          "base_uri": "https://localhost:8080/",
          "height": 1000
        },
        "id": "l-JRfVSMFpD-",
        "outputId": "9c4e0f41-f7e0-4bc9-aa9f-31601cd11727"
      },
      "execution_count": 3,
      "outputs": [
        {
          "output_type": "display_data",
          "data": {
            "text/plain": [
              "<Figure size 432x288 with 1 Axes>"
            ],
            "image/png": "[encoded data removed]"
          },
          "metadata": {
            "needs_background": "light"
          }
        },
        {
          "output_type": "display_data",
          "data": {
            "text/plain": [
              "<Figure size 432x288 with 1 Axes>"
            ],
            "image/png": "[encoded data removed]"
          },
          "metadata": {
            "needs_background": "light"
          }
        },
        {
          "output_type": "display_data",
          "data": {
            "text/plain": [
              "<Figure size 432x288 with 1 Axes>"
            ],
            "image/png": "[encoded data removed]"
          },
          "metadata": {
            "needs_background": "light"
          }
        },
        {
          "output_type": "display_data",
          "data": {
            "text/plain": [
              "<Figure size 432x288 with 1 Axes>"
            ],
            "image/png": "[encoded data removed]"
          },
          "metadata": {
            "needs_background": "light"
          }
        },
        {
          "output_type": "display_data",
          "data": {
            "text/plain": [
              "<Figure size 432x288 with 1 Axes>"
            ],
            "image/png": "[encoded data removed]"
          },
          "metadata": {
            "needs_background": "light"
          }
        },
        {
          "output_type": "display_data",
          "data": {
            "text/plain": [
              "<Figure size 432x288 with 1 Axes>"
            ],
            "image/png": "[encoded data removed]"
          },
          "metadata": {
            "needs_background": "light"
          }
        },
        {
          "output_type": "display_data",
          "data": {
            "text/plain": [
              "<Figure size 432x288 with 1 Axes>"
            ],
            "image/png": "[encoded data removed]"
          },
          "metadata": {
            "needs_background": "light"
          }
        }
      ]
    },
    {
      "cell_type": "code",
      "source": [
        "# Problem 10\n",
        "print(\"Problem 10 -\")\n",
        "import numpy as np\n",
        "import pandas as pd\n",
        "\n",
        "mat = np.random.uniform(1, 2, (20, 5)) \n",
        "dataframe = pd.DataFrame(mat)  \n",
        "dataframe.columns = ['a', 'b', 'c', 'd', 'e']\n",
        "print(mat) \n",
        "print(dataframe) \n",
        "std_dev = {} \n",
        "std_dev['a'] = dataframe['a'].std()\n",
        "std_dev['b'] = dataframe['b'].std()\n",
        "std_dev['c'] = dataframe['c'].std()\n",
        "std_dev['d'] = dataframe['d'].std()\n",
        "std_dev['e'] = dataframe['e'].std()\n",
        "\n",
        "kv_pairs = list(std_dev.items())\n",
        "# print(kv_pairs)\n",
        "kv_pairs.sort(key = lambda x: x[1]) \n",
        "print(\"the column with highest standard deviation is \", kv_pairs[4][0], \"with the std dev of \", kv_pairs[4][1])\n",
        "\n",
        "row_mean = dict(dataframe.mean(axis = 1))\n",
        "\n",
        "row_mean_pairs = list(row_mean.items()) \n",
        "row_mean_pairs.sort(key = lambda x: x[1]) \n",
        "print(\"The row with the lowest mean is row number \", row_mean_pairs[19][0]+1, \"with a mean of \", row_mean_pairs[19][1] )\n",
        "# print(row_mean)\n",
        "\n",
        "print(\"Problem 11 -\") \n",
        "\n",
        "dataframe['f'] = dataframe.sum(axis = 1) \n",
        "dataframe['g'] = np.where(dataframe['f']<8, \"LT8\", \"GT8\")\n",
        "print(dataframe)\n",
        "print(\"The number of rows with the value 'LT8' are \", (dataframe.g == \"LT8\").sum())  \n",
        "dataframe['f_l'] = np.where(dataframe['g'] == \"LT8\", dataframe['f'], np.nan)\n",
        "dataframe['f_g'] = np.where(dataframe['g'] == \"GT8\", dataframe['f'], np.nan)  \n",
        "\n",
        "print(\"The std dev of the column 'f' for the rows where the value in the column “g” is “LT8” is \", dataframe['f_l'].std(skipna = True))\n",
        "print(\"The std dev of the column 'f' for the rows where the value in the column “g” is “GT8” is \", dataframe['f_g'].std(skipna = True))  \n",
        "\n",
        "\n",
        "del(dataframe['f_l']) \n",
        "del(dataframe['f_g'])  \n",
        "print(dataframe)"
      ],
      "metadata": {
        "colab": {
          "base_uri": "https://localhost:8080/"
        },
        "id": "zYj_cFZAIwBA",
        "outputId": "68c84ad7-58e1-4be7-b0d1-fd36dab06728"
      },
      "execution_count": 7,
      "outputs": [
        {
          "output_type": "stream",
          "name": "stdout",
          "text": [
            "Problem 10 -\n",
            "[[1.98294628 1.25075858 1.18051364 1.93417869 1.2315488 ]\n",
            " [1.07185019 1.04093711 1.91350875 1.90434034 1.64826771]\n",
            " [1.61836426 1.75202423 1.63384641 1.85348142 1.56102738]\n",
            " [1.98760849 1.70590326 1.11814282 1.03192916 1.13552523]\n",
            " [1.71918712 1.64807097 1.52922655 1.00199285 1.98434652]\n",
            " [1.09368256 1.58717883 1.26396099 1.33931149 1.44427467]\n",
            " [1.43386495 1.81758234 1.3037087  1.7607571  1.99665485]\n",
            " [1.26825232 1.79177207 1.34738815 1.48972074 1.05933834]\n",
            " [1.6213383  1.6236791  1.40653683 1.93180077 1.74831389]\n",
            " [1.56093535 1.46853086 1.87177019 1.00853929 1.00308899]\n",
            " [1.8064542  1.73441276 1.22303209 1.87098918 1.5573883 ]\n",
            " [1.08373424 1.77822201 1.07246912 1.57321145 1.94225096]\n",
            " [1.91592644 1.33436029 1.65702211 1.66924579 1.04043055]\n",
            " [1.76710157 1.86367716 1.01871726 1.79691404 1.95276426]\n",
            " [1.00277017 1.33838699 1.75631714 1.36299266 1.50867032]\n",
            " [1.30510817 1.14860292 1.04971416 1.14565961 1.13895069]\n",
            " [1.15487154 1.73736568 1.90991123 1.21314511 1.19367455]\n",
            " [1.49469541 1.39167901 1.75522424 1.20290645 1.57522098]\n",
            " [1.65720942 1.11973859 1.73817703 1.86969619 1.44541434]\n",
            " [1.69363023 1.02477555 1.8228068  1.130232   1.03350205]]\n",
            "           a         b         c         d         e\n",
            "0   1.982946  1.250759  1.180514  1.934179  1.231549\n",
            "1   1.071850  1.040937  1.913509  1.904340  1.648268\n",
            "2   1.618364  1.752024  1.633846  1.853481  1.561027\n",
            "3   1.987608  1.705903  1.118143  1.031929  1.135525\n",
            "4   1.719187  1.648071  1.529227  1.001993  1.984347\n",
            "5   1.093683  1.587179  1.263961  1.339311  1.444275\n",
            "6   1.433865  1.817582  1.303709  1.760757  1.996655\n",
            "7   1.268252  1.791772  1.347388  1.489721  1.059338\n",
            "8   1.621338  1.623679  1.406537  1.931801  1.748314\n",
            "9   1.560935  1.468531  1.871770  1.008539  1.003089\n",
            "10  1.806454  1.734413  1.223032  1.870989  1.557388\n",
            "11  1.083734  1.778222  1.072469  1.573211  1.942251\n",
            "12  1.915926  1.334360  1.657022  1.669246  1.040431\n",
            "13  1.767102  1.863677  1.018717  1.796914  1.952764\n",
            "14  1.002770  1.338387  1.756317  1.362993  1.508670\n",
            "15  1.305108  1.148603  1.049714  1.145660  1.138951\n",
            "16  1.154872  1.737366  1.909911  1.213145  1.193675\n",
            "17  1.494695  1.391679  1.755224  1.202906  1.575221\n",
            "18  1.657209  1.119739  1.738177  1.869696  1.445414\n",
            "19  1.693630  1.024776  1.822807  1.130232  1.033502\n",
            "the column with highest standard deviation is  d with the std dev of  0.348954954005997\n",
            "The row with the lowest mean is row number  3 with a mean of  1.68374874273471\n",
            "Problem 11 -\n",
            "           a         b         c         d         e         f    g\n",
            "0   1.982946  1.250759  1.180514  1.934179  1.231549  7.579946  LT8\n",
            "1   1.071850  1.040937  1.913509  1.904340  1.648268  7.578904  LT8\n",
            "2   1.618364  1.752024  1.633846  1.853481  1.561027  8.418744  GT8\n",
            "3   1.987608  1.705903  1.118143  1.031929  1.135525  6.979109  LT8\n",
            "4   1.719187  1.648071  1.529227  1.001993  1.984347  7.882824  LT8\n",
            "5   1.093683  1.587179  1.263961  1.339311  1.444275  6.728409  LT8\n",
            "6   1.433865  1.817582  1.303709  1.760757  1.996655  8.312568  GT8\n",
            "7   1.268252  1.791772  1.347388  1.489721  1.059338  6.956472  LT8\n",
            "8   1.621338  1.623679  1.406537  1.931801  1.748314  8.331669  GT8\n",
            "9   1.560935  1.468531  1.871770  1.008539  1.003089  6.912865  LT8\n",
            "10  1.806454  1.734413  1.223032  1.870989  1.557388  8.192277  GT8\n",
            "11  1.083734  1.778222  1.072469  1.573211  1.942251  7.449888  LT8\n",
            "12  1.915926  1.334360  1.657022  1.669246  1.040431  7.616985  LT8\n",
            "13  1.767102  1.863677  1.018717  1.796914  1.952764  8.399174  GT8\n",
            "14  1.002770  1.338387  1.756317  1.362993  1.508670  6.969137  LT8\n",
            "15  1.305108  1.148603  1.049714  1.145660  1.138951  5.788036  LT8\n",
            "16  1.154872  1.737366  1.909911  1.213145  1.193675  7.208968  LT8\n",
            "17  1.494695  1.391679  1.755224  1.202906  1.575221  7.419726  LT8\n",
            "18  1.657209  1.119739  1.738177  1.869696  1.445414  7.830236  LT8\n",
            "19  1.693630  1.024776  1.822807  1.130232  1.033502  6.704947  LT8\n",
            "The number of rows with the value 'LT8' are  15\n",
            "The std dev of the column 'f' for the rows where the value in the column “g” is “LT8” is  0.5431844648450472\n",
            "The std dev of the column 'f' for the rows where the value in the column “g” is “GT8” is  0.08934625988278873\n",
            "           a         b         c         d         e         f    g\n",
            "0   1.982946  1.250759  1.180514  1.934179  1.231549  7.579946  LT8\n",
            "1   1.071850  1.040937  1.913509  1.904340  1.648268  7.578904  LT8\n",
            "2   1.618364  1.752024  1.633846  1.853481  1.561027  8.418744  GT8\n",
            "3   1.987608  1.705903  1.118143  1.031929  1.135525  6.979109  LT8\n",
            "4   1.719187  1.648071  1.529227  1.001993  1.984347  7.882824  LT8\n",
            "5   1.093683  1.587179  1.263961  1.339311  1.444275  6.728409  LT8\n",
            "6   1.433865  1.817582  1.303709  1.760757  1.996655  8.312568  GT8\n",
            "7   1.268252  1.791772  1.347388  1.489721  1.059338  6.956472  LT8\n",
            "8   1.621338  1.623679  1.406537  1.931801  1.748314  8.331669  GT8\n",
            "9   1.560935  1.468531  1.871770  1.008539  1.003089  6.912865  LT8\n",
            "10  1.806454  1.734413  1.223032  1.870989  1.557388  8.192277  GT8\n",
            "11  1.083734  1.778222  1.072469  1.573211  1.942251  7.449888  LT8\n",
            "12  1.915926  1.334360  1.657022  1.669246  1.040431  7.616985  LT8\n",
            "13  1.767102  1.863677  1.018717  1.796914  1.952764  8.399174  GT8\n",
            "14  1.002770  1.338387  1.756317  1.362993  1.508670  6.969137  LT8\n",
            "15  1.305108  1.148603  1.049714  1.145660  1.138951  5.788036  LT8\n",
            "16  1.154872  1.737366  1.909911  1.213145  1.193675  7.208968  LT8\n",
            "17  1.494695  1.391679  1.755224  1.202906  1.575221  7.419726  LT8\n",
            "18  1.657209  1.119739  1.738177  1.869696  1.445414  7.830236  LT8\n",
            "19  1.693630  1.024776  1.822807  1.130232  1.033502  6.704947  LT8\n"
          ]
        }
      ]
    },
    {
      "cell_type": "markdown",
      "source": [
        "Problem 12 :\n",
        "Broadcasting refers to a streching/re-sizing operation done by Numpy during array-array opeartions between arrays of different shapes to make them \n",
        "compatible with each other w.r.t the operator. In this, smaller array is stretched to become compatible with larger array. \n",
        "However, only those arrays can be broadcasted if they meet the following conditions:\n",
        "1. they are equal \n",
        "1. one of their element in the dimension-tuple is 1. "
      ],
      "metadata": {
        "id": "iOZWf6ETUdCs"
      }
    },
    {
      "cell_type": "code",
      "source": [
        "# Example for problem 12 :\n",
        "import numpy as np\n",
        "mat1 = np.array([[1,2,3, 5], [4,7,10,5], [1,5,8,15]]) \n",
        "mat2 = np.array([1, 1, 0,3]) \n",
        "print(mat1*mat2)\n",
        "print(np.matmul(mat1, mat2)) \n",
        "mat3 = np.array([[1, 2], [3, 5], [8,9]] )\n",
        "mat4 = np.array([[2, 2], [1, 4]]) \n",
        "# Here we can see that, the smaller matrix 'mat2' has been stretched to make mat1 and mat2 compatible for product.\n",
        "# Also, for different operations, Numpy broadcasts the matrices in different manners to make then compatible w.r.t. the operator."
      ],
      "metadata": {
        "colab": {
          "base_uri": "https://localhost:8080/"
        },
        "id": "WA_UaA21MWdY",
        "outputId": "e1a729b7-58dc-4142-f31b-766270732191"
      },
      "execution_count": 8,
      "outputs": [
        {
          "output_type": "stream",
          "name": "stdout",
          "text": [
            "[[ 1  2  0 15]\n",
            " [ 4  7  0 15]\n",
            " [ 1  5  0 45]]\n",
            "[18 26 51]\n"
          ]
        }
      ]
    },
    {
      "cell_type": "code",
      "source": [
        "# Problem 13 \n",
        "import numpy as np  \n",
        "n = int(input(\"Enter the length of the np array\"))\n",
        "nums = np.random.randint(-100, 100, n)\n",
        "\n",
        "def my_argmin(arr):\n",
        "  c = len(arr)\n",
        "  val = 10000\n",
        "  index = 0 \n",
        "  for i in range(0, c):\n",
        "    if (arr[i] < val):\n",
        "      val = arr[i] \n",
        "      index = i \n",
        "  print(\"The argmin using my_argmin function is {} and the value is {} \".format(index, val)) \n",
        "  return \n",
        "my_argmin(nums)\n",
        "print(\"The argmin using numpy is {} and the value is {}\".format(np.argmin(nums), nums[np.argmin(nums)]))\n",
        "print(\"Hence, verified.\")\n",
        "  \n",
        "\n",
        "\n",
        "\n",
        "\n"
      ],
      "metadata": {
        "colab": {
          "base_uri": "https://localhost:8080/"
        },
        "id": "kzO63buAyDch",
        "outputId": "7d02f8e2-2b28-4c2b-9ae2-4a54b6dbd160"
      },
      "execution_count": 11,
      "outputs": [
        {
          "output_type": "stream",
          "name": "stdout",
          "text": [
            "Enter the length of the np array50\n",
            "The argmin using my_argmin function is 48 and the value is -97 \n",
            "The argmin using numpy is 48 and the value is -97\n",
            "Hence, verified\n"
          ]
        }
      ]
    },
    {
      "cell_type": "code",
      "source": [],
      "metadata": {
        "id": "dEmO3uqYB06x"
      },
      "execution_count": null,
      "outputs": []
    }
  ]
}